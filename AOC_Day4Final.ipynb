{
 "cells": [
  {
   "cell_type": "code",
   "execution_count": 57,
   "id": "8e946380-ad12-4f2f-a61a-9dbc612add3c",
   "metadata": {},
   "outputs": [],
   "source": [
    "from collections import defaultdict\n",
    "from itertools import chain"
   ]
  },
  {
   "cell_type": "code",
   "execution_count": 183,
   "id": "f706f365-d94f-45eb-ba3d-589ef7edd596",
   "metadata": {},
   "outputs": [],
   "source": [
    "with open(\"day3.txt\") as data:\n",
    "    dataf = data.read()\n",
    "\n",
    "dataf = dataf.split('\\n')\n",
    "numbers, boards = dataf[0], dataf[1:]\n",
    "\n",
    "numbers = list(map(int, numbers.split(',')))"
   ]
  },
  {
   "cell_type": "markdown",
   "id": "cf81f4d5-0074-4e68-ab46-0104ada11f8d",
   "metadata": {},
   "source": [
    "###### Board of values are lists of lists\n",
    "###### Creating lists of lists here and converting them to numbers"
   ]
  },
  {
   "cell_type": "code",
   "execution_count": 184,
   "id": "98bbe0a3-ac43-4f62-ae16-bc38e68381ab",
   "metadata": {},
   "outputs": [],
   "source": [
    "board = defaultdict(list)"
   ]
  },
  {
   "cell_type": "markdown",
   "id": "122c7769-d7d4-4940-a62f-6a27e2396881",
   "metadata": {},
   "source": [
    "##### Creating the board"
   ]
  },
  {
   "cell_type": "code",
   "execution_count": 185,
   "id": "6b56df8f-ed7a-4be4-97c5-7567404ca3fe",
   "metadata": {},
   "outputs": [],
   "source": [
    "intval = 0\n",
    "for idx, item in enumerate(boards): \n",
    "    if item != '':\n",
    "        board[intval].append(item) \n",
    "    else:\n",
    "        intval+=1\n",
    "\n",
    "fboard = [[item.split() for item in board[newitem]] for newitem in board.keys()]\n",
    "\n",
    "fboard = [[list(map(int, item)) for item in items] for items in fboard]\n",
    "    "
   ]
  },
  {
   "cell_type": "markdown",
   "id": "5d052723-6834-4d85-907b-64229ecf4ffb",
   "metadata": {},
   "source": [
    "##### Transforming a flatten(1x25) grid to nested grid (5x5)"
   ]
  },
  {
   "cell_type": "code",
   "execution_count": 187,
   "id": "5dc8cc51-56e3-4865-9554-ff58245378e6",
   "metadata": {},
   "outputs": [],
   "source": [
    "def transform(data):\n",
    "    newdata = [[] for _ in range(5)]\n",
    "    for idx, item in enumerate(data):\n",
    "        newdata[idx%5].append(item)\n",
    "    return newdata"
   ]
  },
  {
   "cell_type": "markdown",
   "id": "76365c10-a39e-4f45-af6a-ef9ecb8ad31c",
   "metadata": {},
   "source": [
    "#### Transposing A -> A(Transpose)"
   ]
  },
  {
   "cell_type": "code",
   "execution_count": 188,
   "id": "3191a4d6-f873-487d-b867-f442c8011473",
   "metadata": {},
   "outputs": [],
   "source": [
    "def transpose(data):\n",
    "    newdata = [[0,0,0,0,0] for item in range(5)]\n",
    "    for row, tempdt in enumerate(data):\n",
    "        for col, _ in enumerate(tempdt):\n",
    "            newdata[col][row] = data[row][col]\n",
    "            \n",
    "    return newdata"
   ]
  },
  {
   "cell_type": "markdown",
   "id": "844fc115-3c5c-47e8-91cb-22e681374a3c",
   "metadata": {},
   "source": [
    "#### Determine if all the instance are -1 , by checking sum to -5"
   ]
  },
  {
   "cell_type": "code",
   "execution_count": 189,
   "id": "80dc884b-61d5-4477-a931-c4ab0516d354",
   "metadata": {},
   "outputs": [],
   "source": [
    "def isCompleteRowCol(data):\n",
    "    for items in data:\n",
    "        if sum(items) == -5:\n",
    "            return True\n",
    "    return False"
   ]
  },
  {
   "cell_type": "markdown",
   "id": "a4cebb9a-57bb-440e-9d70-84ab8ecc4749",
   "metadata": {},
   "source": [
    "Looping throught the numbers, and upating the flatten list every time, and checking if it is complete once completed we break out of the loop, measuring the sum and the iteration number along with last number in a tuple\n",
    "The tuple order is (iterationNumber(i), numberLastObserved(num), sum of the board before break out of loop(splatfboard sum) "
   ]
  },
  {
   "cell_type": "code",
   "execution_count": 190,
   "id": "8d51dd1c-338d-409a-a594-14073ce2d8d3",
   "metadata": {},
   "outputs": [],
   "source": [
    "def findPos(fboard):\n",
    "    indexval = []\n",
    "    splatfboard = list(chain(*fboard))\n",
    "    for i, num in enumerate(numbers):\n",
    "        if num in splatfboard:\n",
    "            idxval = splatfboard.index(num)\n",
    "            indexval.append(idxval)\n",
    "            splatfboard.insert(idxval+1,-1)\n",
    "            splatfboard.pop(idxval)\n",
    "            splatfboard = transform(splatfboard)\n",
    "            if isCompleteRowCol(splatfboard) == True or isCompleteRowCol(transpose(splatfboard))==True:\n",
    "                break\n",
    "            splatfboard = list(chain(*splatfboard))\n",
    "    \n",
    "    splatfboard = list(chain(*splatfboard))\n",
    "    splatsum = sum([item for item in splatfboard if item != -1])\n",
    "    \n",
    "    return i, num, splatsum"
   ]
  },
  {
   "cell_type": "code",
   "execution_count": 191,
   "id": "e4334fc6-dcd7-48af-87ef-e8e4da35645b",
   "metadata": {},
   "outputs": [
    {
     "data": {
      "text/plain": [
       "(66, 35, 543)"
      ]
     },
     "execution_count": 191,
     "metadata": {},
     "output_type": "execute_result"
    }
   ],
   "source": [
    "findPos(fboard[0])"
   ]
  },
  {
   "cell_type": "code",
   "execution_count": 192,
   "id": "9bb25dd8-d96f-4c00-b9ac-f30ff094ac3d",
   "metadata": {},
   "outputs": [],
   "source": [
    "finalList = [findPos(item) for item in fboard]"
   ]
  },
  {
   "cell_type": "code",
   "execution_count": 193,
   "id": "9c48c3c6-e17c-4350-bbb6-745b40d2f5c4",
   "metadata": {},
   "outputs": [],
   "source": [
    "finalList.sort(key=lambda x: x[0], reverse=False)"
   ]
  },
  {
   "cell_type": "code",
   "execution_count": 194,
   "id": "ca57a3d2-4c16-4cd3-9bb4-4d013e6758aa",
   "metadata": {},
   "outputs": [
    {
     "data": {
      "text/plain": [
       "((13, 10, 1068), (84, 68, 469))"
      ]
     },
     "execution_count": 194,
     "metadata": {},
     "output_type": "execute_result"
    }
   ],
   "source": [
    "finalList[0], finalList[-1]"
   ]
  },
  {
   "cell_type": "code",
   "execution_count": 195,
   "id": "f64fb966-b94c-422e-8a12-b143dda73cb8",
   "metadata": {},
   "outputs": [],
   "source": [
    "def prod(tuple):\n",
    "    return tuple[1]*tuple[2]"
   ]
  },
  {
   "cell_type": "markdown",
   "id": "f031d698-4222-497c-8605-5abd00b2dce0",
   "metadata": {},
   "source": [
    "##### Problem1 "
   ]
  },
  {
   "cell_type": "code",
   "execution_count": 196,
   "id": "04a11887-97ec-4d81-95a1-44cdd9f2a82b",
   "metadata": {},
   "outputs": [
    {
     "data": {
      "text/plain": [
       "10680"
      ]
     },
     "execution_count": 196,
     "metadata": {},
     "output_type": "execute_result"
    }
   ],
   "source": [
    "prod(finalList[0])"
   ]
  },
  {
   "cell_type": "markdown",
   "id": "944403ed-c984-431f-a35b-235e983eee24",
   "metadata": {},
   "source": [
    "##### Problem2"
   ]
  },
  {
   "cell_type": "code",
   "execution_count": 197,
   "id": "53168857-4a5b-4c4b-94d0-3e066b35e268",
   "metadata": {},
   "outputs": [
    {
     "data": {
      "text/plain": [
       "31892"
      ]
     },
     "execution_count": 197,
     "metadata": {},
     "output_type": "execute_result"
    }
   ],
   "source": [
    "prod(finalList[-1])"
   ]
  },
  {
   "cell_type": "code",
   "execution_count": null,
   "id": "4ceb0a86-089b-463d-8963-f366f72338af",
   "metadata": {},
   "outputs": [],
   "source": []
  }
 ],
 "metadata": {
  "kernelspec": {
   "display_name": "Python 3",
   "language": "python",
   "name": "python3"
  },
  "language_info": {
   "codemirror_mode": {
    "name": "ipython",
    "version": 3
   },
   "file_extension": ".py",
   "mimetype": "text/x-python",
   "name": "python",
   "nbconvert_exporter": "python",
   "pygments_lexer": "ipython3",
   "version": "3.9.5"
  }
 },
 "nbformat": 4,
 "nbformat_minor": 5
}
