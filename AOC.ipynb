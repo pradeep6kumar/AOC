{
 "cells": [
  {
   "cell_type": "markdown",
   "metadata": {},
   "source": [
    "### Day1"
   ]
  },
  {
   "cell_type": "code",
   "execution_count": 51,
   "metadata": {},
   "outputs": [],
   "source": [
    "\n",
    "## Reading the Inputs via with context\n",
    "with open(\"day1.txt\") as data:\n",
    "    dataf = data.read()\n",
    "\n",
    "## Converting to Int\n",
    "dataf = list(map(int, dataf.split()))\n",
    "\n",
    "## arranging the next element to the current element, the last one will be ignored automatically by zip\n",
    "tups = list(zip(dataf, dataf[1:]))\n",
    "\n",
    "def getTheIncreasing(tups):\n",
    "    return sum([(items[1] - items[0])>0 for items in tups])"
   ]
  },
  {
   "cell_type": "markdown",
   "metadata": {},
   "source": [
    "##### Problem1"
   ]
  },
  {
   "cell_type": "code",
   "execution_count": 52,
   "metadata": {},
   "outputs": [
    {
     "data": {
      "text/plain": [
       "1583"
      ]
     },
     "execution_count": 52,
     "metadata": {},
     "output_type": "execute_result"
    }
   ],
   "source": [
    "## Getting the increasing counts\n",
    "getTheIncreasing(tups)"
   ]
  },
  {
   "cell_type": "code",
   "execution_count": 49,
   "metadata": {},
   "outputs": [],
   "source": [
    "## Creating the dictionary to hold all the sliding window sums for each of the records\n",
    "sums = dict()\n",
    "\n",
    "## Enumerating each of the index and add slides to the current row\n",
    "for idx, _ in enumerate(dataf):\n",
    "    if(idx <= (len(dataf) - 3)):\n",
    "        sums[idx] = dataf[idx] + dataf[idx+1] + dataf[idx+2]\n",
    "\n",
    "## converting the dictionary values to list\n",
    "dataf2 = list(sums.values())\n",
    "\n",
    "## Finally using the first trick again to arrange in sliding form\n",
    "tups2 = list(zip(dataf2, dataf2[1:]))\n",
    "\n"
   ]
  },
  {
   "cell_type": "markdown",
   "metadata": {},
   "source": [
    "##### Problem2"
   ]
  },
  {
   "cell_type": "code",
   "execution_count": 50,
   "metadata": {},
   "outputs": [
    {
     "data": {
      "text/plain": [
       "1627"
      ]
     },
     "execution_count": 50,
     "metadata": {},
     "output_type": "execute_result"
    }
   ],
   "source": [
    "## Getting the Increasing counts\n",
    "getTheIncreasing(tups2)"
   ]
  },
  {
   "cell_type": "markdown",
   "metadata": {},
   "source": [
    "### Day2"
   ]
  },
  {
   "cell_type": "code",
   "execution_count": 57,
   "metadata": {},
   "outputs": [],
   "source": [
    "with open(\"day2.txt\") as data:\n",
    "    dataf = data.read()\n"
   ]
  },
  {
   "cell_type": "code",
   "execution_count": 58,
   "metadata": {},
   "outputs": [],
   "source": [
    "#dataf = text"
   ]
  },
  {
   "cell_type": "code",
   "execution_count": 59,
   "metadata": {},
   "outputs": [],
   "source": [
    "dataf = dataf.split('\\n')"
   ]
  },
  {
   "cell_type": "code",
   "execution_count": 60,
   "metadata": {},
   "outputs": [],
   "source": [
    "dataf = [item.split(' ') for item in dataf]"
   ]
  },
  {
   "cell_type": "code",
   "execution_count": 61,
   "metadata": {},
   "outputs": [
    {
     "data": {
      "text/plain": [
       "[['forward', '3'], ['down', '4']]"
      ]
     },
     "execution_count": 61,
     "metadata": {},
     "output_type": "execute_result"
    }
   ],
   "source": [
    "dataf[0:2]"
   ]
  },
  {
   "cell_type": "code",
   "execution_count": 62,
   "metadata": {},
   "outputs": [],
   "source": [
    "dataf = [(item[0], int(item[1])) for item in dataf if item != ['']]"
   ]
  },
  {
   "cell_type": "code",
   "execution_count": 63,
   "metadata": {},
   "outputs": [],
   "source": [
    "f,d = 0, 0"
   ]
  },
  {
   "cell_type": "code",
   "execution_count": 64,
   "metadata": {},
   "outputs": [],
   "source": [
    "for item in dataf:\n",
    "    if item[0] == 'forward':\n",
    "        f += item[1]\n",
    "    elif item[0] == 'up':\n",
    "        d -= item[1]\n",
    "    elif item[0] == 'down':\n",
    "        d += item[1]\n",
    "    "
   ]
  },
  {
   "cell_type": "markdown",
   "metadata": {},
   "source": [
    "##### Problem1"
   ]
  },
  {
   "cell_type": "code",
   "execution_count": 65,
   "metadata": {},
   "outputs": [
    {
     "data": {
      "text/plain": [
       "2150351"
      ]
     },
     "execution_count": 65,
     "metadata": {},
     "output_type": "execute_result"
    }
   ],
   "source": [
    "d*f"
   ]
  },
  {
   "cell_type": "markdown",
   "metadata": {},
   "source": [
    "##### Problem2"
   ]
  },
  {
   "cell_type": "code",
   "execution_count": 66,
   "metadata": {},
   "outputs": [],
   "source": [
    "f,d,aim = 0, 0, 0"
   ]
  },
  {
   "cell_type": "code",
   "execution_count": 67,
   "metadata": {},
   "outputs": [],
   "source": [
    "for item in dataf:\n",
    "    \n",
    "    if item[0] == 'forward':\n",
    "        f += item[1]\n",
    "        d  += aim*item[1]\n",
    "    elif item[0] == 'up':\n",
    "        aim -= item[1]\n",
    "        #d -= item[1]\n",
    "    elif item[0] == 'down':\n",
    "        aim += item[1]\n",
    "        #d += item[1]*aim\n",
    "    #print(f,d,aim)"
   ]
  },
  {
   "cell_type": "code",
   "execution_count": 68,
   "metadata": {},
   "outputs": [
    {
     "data": {
      "text/plain": [
       "1842742223"
      ]
     },
     "execution_count": 68,
     "metadata": {},
     "output_type": "execute_result"
    }
   ],
   "source": [
    "f*d"
   ]
  },
  {
   "cell_type": "markdown",
   "metadata": {},
   "source": [
    "### Day3"
   ]
  },
  {
   "cell_type": "code",
   "execution_count": 43,
   "metadata": {},
   "outputs": [],
   "source": [
    "from copy import deepcopy"
   ]
  },
  {
   "cell_type": "code",
   "execution_count": 44,
   "metadata": {},
   "outputs": [],
   "source": [
    "with open(\"day3.txt\") as data:\n",
    "    dataf = data.read()"
   ]
  },
  {
   "cell_type": "code",
   "execution_count": 45,
   "metadata": {},
   "outputs": [],
   "source": [
    "dataf = dataf.split('\\n')"
   ]
  },
  {
   "cell_type": "code",
   "execution_count": 46,
   "metadata": {},
   "outputs": [],
   "source": [
    "dataf = [item for item in dataf if item!='']"
   ]
  },
  {
   "cell_type": "code",
   "execution_count": 47,
   "metadata": {},
   "outputs": [
    {
     "data": {
      "text/plain": [
       "1000"
      ]
     },
     "execution_count": 47,
     "metadata": {},
     "output_type": "execute_result"
    }
   ],
   "source": [
    "len(dataf)"
   ]
  },
  {
   "cell_type": "code",
   "execution_count": 48,
   "metadata": {},
   "outputs": [],
   "source": [
    "x = ''\n",
    "y = ''\n",
    "\n",
    "for newitem in range(len(dataf[0])):\n",
    "    value = int(sum([item[newitem]=='1' for item in dataf])>=len(dataf)/2)\n",
    "    x = x + str(value)\n",
    "    y = y + str(1-value)"
   ]
  },
  {
   "cell_type": "markdown",
   "metadata": {},
   "source": [
    "##### Problem1"
   ]
  },
  {
   "cell_type": "code",
   "execution_count": 49,
   "metadata": {},
   "outputs": [
    {
     "data": {
      "text/plain": [
       "845186"
      ]
     },
     "execution_count": 49,
     "metadata": {},
     "output_type": "execute_result"
    }
   ],
   "source": [
    "int(x, 2)*int(y,2)"
   ]
  },
  {
   "cell_type": "markdown",
   "metadata": {},
   "source": [
    "##### Problem2"
   ]
  },
  {
   "cell_type": "code",
   "execution_count": 50,
   "metadata": {},
   "outputs": [],
   "source": [
    "def counts(x, pos):\n",
    "    oneCount = sum([item[pos] == '1' for item in x])\n",
    "    zeroCount = sum([item[pos] == '0' for item in x])\n",
    "    if oneCount >= zeroCount:\n",
    "        return 1\n",
    "    else:\n",
    "        return 0\n",
    "    "
   ]
  },
  {
   "cell_type": "code",
   "execution_count": 51,
   "metadata": {},
   "outputs": [],
   "source": [
    "def filter(x, pos, posvalue):\n",
    "    return [item  for item in x if item[pos]== str(posvalue)]"
   ]
  },
  {
   "cell_type": "code",
   "execution_count": 52,
   "metadata": {},
   "outputs": [],
   "source": [
    "\n",
    "dataf2 = deepcopy(dataf)"
   ]
  },
  {
   "cell_type": "code",
   "execution_count": 53,
   "metadata": {},
   "outputs": [],
   "source": [
    "charlength = len(dataf[0])\n",
    "i = 0\n",
    "while True:\n",
    "    cnt = counts(dataf2, i)\n",
    "    #print(len(dataf2), cnt, i)\n",
    "    dataf2 = filter(dataf2, i, str(cnt))\n",
    "    i = i+1\n",
    "    \n",
    "    if len(dataf2) == 1 or i == charlength:\n",
    "        break"
   ]
  },
  {
   "cell_type": "code",
   "execution_count": 54,
   "metadata": {},
   "outputs": [],
   "source": [
    "dataf3 = deepcopy(dataf)"
   ]
  },
  {
   "cell_type": "code",
   "execution_count": 55,
   "metadata": {},
   "outputs": [],
   "source": [
    "charlength = len(dataf[0])\n",
    "i = 0\n",
    "while True:\n",
    "    cnt = 1 - counts(dataf3, i)\n",
    "    #print(len(dataf3), cnt, i)\n",
    "    dataf3 = filter(dataf3, i, str(cnt))\n",
    "    i = i+1\n",
    "    \n",
    "    if len(dataf3) == 1 or i == charlength:\n",
    "        break"
   ]
  },
  {
   "cell_type": "code",
   "execution_count": 56,
   "metadata": {},
   "outputs": [
    {
     "data": {
      "text/plain": [
       "4636702"
      ]
     },
     "execution_count": 56,
     "metadata": {},
     "output_type": "execute_result"
    }
   ],
   "source": [
    "int(dataf3[-1],2)*int(dataf2[-1], 2)"
   ]
  },
  {
   "cell_type": "markdown",
   "metadata": {},
   "source": [
    "### Day4"
   ]
  },
  {
   "cell_type": "code",
   "execution_count": 1,
   "metadata": {},
   "outputs": [],
   "source": [
    "from collections import defaultdict\n",
    "from itertools import chain"
   ]
  },
  {
   "cell_type": "code",
   "execution_count": 3,
   "metadata": {},
   "outputs": [],
   "source": [
    "with open(\"day4.txt\") as data:\n",
    "    dataf = data.read()\n",
    "\n",
    "dataf = dataf.split('\\n')\n",
    "numbers, boards = dataf[0], dataf[1:]\n",
    "\n",
    "numbers = list(map(int, numbers.split(',')))"
   ]
  },
  {
   "cell_type": "code",
   "execution_count": 4,
   "metadata": {},
   "outputs": [],
   "source": [
    "board = defaultdict(list)"
   ]
  },
  {
   "cell_type": "code",
   "execution_count": 5,
   "metadata": {},
   "outputs": [],
   "source": [
    "### Board is created above"
   ]
  },
  {
   "cell_type": "code",
   "execution_count": 6,
   "metadata": {},
   "outputs": [],
   "source": [
    "intval = 0\n",
    "for idx, item in enumerate(boards): \n",
    "    if item != '':\n",
    "        board[intval].append(item) \n",
    "    else:\n",
    "        intval+=1\n",
    "\n",
    "fboard = [[item.split() for item in board[newitem]] for newitem in board.keys()]\n",
    "\n",
    "fboard = [[list(map(int, item)) for item in items] for items in fboard]\n",
    "    "
   ]
  },
  {
   "cell_type": "markdown",
   "metadata": {},
   "source": [
    "##### Transforming a flatten(1x25) grid to nested grid (5x5)"
   ]
  },
  {
   "cell_type": "code",
   "execution_count": 7,
   "metadata": {},
   "outputs": [],
   "source": [
    "def transform(data):\n",
    "    newdata = [[] for _ in range(5)]\n",
    "    for idx, item in enumerate(data):\n",
    "        newdata[idx%5].append(item)\n",
    "    return newdata"
   ]
  },
  {
   "cell_type": "markdown",
   "metadata": {
    "tags": []
   },
   "source": [
    "#### Transposing A -> A(Transpose)"
   ]
  },
  {
   "cell_type": "code",
   "execution_count": 8,
   "metadata": {},
   "outputs": [],
   "source": [
    "def transpose(data):\n",
    "    newdata = [[0,0,0,0,0] for item in range(5)]\n",
    "    for row, tempdt in enumerate(data):\n",
    "        for col, _ in enumerate(tempdt):\n",
    "            newdata[col][row] = data[row][col]\n",
    "            \n",
    "    return newdata"
   ]
  },
  {
   "cell_type": "markdown",
   "metadata": {},
   "source": [
    "#### Determine if all the instance are -1 , by checking sum to -5"
   ]
  },
  {
   "cell_type": "code",
   "execution_count": 9,
   "metadata": {},
   "outputs": [],
   "source": [
    "def isCompleteRowCol(data):\n",
    "    for items in data:\n",
    "        if sum(items) == -5:\n",
    "            return True\n",
    "    return False"
   ]
  },
  {
   "cell_type": "markdown",
   "metadata": {},
   "source": [
    "Looping throught the numbers, and upating the flatten list every time, and checking if it is complete once completed we break out of the loop, measuring the sum and the iteration number along with last number in a tuple\n",
    "The tuple order is (iterationNumber(i), numberLastObserved(num), sum of the board before break out of loop(splatfboard sum) "
   ]
  },
  {
   "cell_type": "code",
   "execution_count": 10,
   "metadata": {},
   "outputs": [],
   "source": [
    "def findPos(fboard):\n",
    "    indexval = []\n",
    "    splatfboard = list(chain(*fboard))\n",
    "    for i, num in enumerate(numbers):\n",
    "        if num in splatfboard:\n",
    "            idxval = splatfboard.index(num)\n",
    "            indexval.append(idxval)\n",
    "            splatfboard.insert(idxval+1,-1)\n",
    "            splatfboard.pop(idxval)\n",
    "            splatfboard = transform(splatfboard)\n",
    "            if isCompleteRowCol(splatfboard) == True or isCompleteRowCol(transpose(splatfboard))==True:\n",
    "                break\n",
    "            splatfboard = list(chain(*splatfboard))\n",
    "    \n",
    "    splatfboard = list(chain(*splatfboard))\n",
    "    splatsum = sum([item for item in splatfboard if item != -1])\n",
    "    \n",
    "    return i, num, splatsum"
   ]
  },
  {
   "cell_type": "code",
   "execution_count": 11,
   "metadata": {},
   "outputs": [
    {
     "data": {
      "text/plain": [
       "(66, 35, 543)"
      ]
     },
     "execution_count": 11,
     "metadata": {},
     "output_type": "execute_result"
    }
   ],
   "source": [
    "findPos(fboard[0])"
   ]
  },
  {
   "cell_type": "code",
   "execution_count": 12,
   "metadata": {},
   "outputs": [],
   "source": [
    "finalList = [findPos(item) for item in fboard]"
   ]
  },
  {
   "cell_type": "code",
   "execution_count": 13,
   "metadata": {},
   "outputs": [],
   "source": [
    "finalList.sort(key=lambda x: x[0], reverse=False)"
   ]
  },
  {
   "cell_type": "code",
   "execution_count": 14,
   "metadata": {},
   "outputs": [
    {
     "data": {
      "text/plain": [
       "((13, 10, 1068), (84, 68, 469))"
      ]
     },
     "execution_count": 14,
     "metadata": {},
     "output_type": "execute_result"
    }
   ],
   "source": [
    "finalList[0], finalList[-1]"
   ]
  },
  {
   "cell_type": "code",
   "execution_count": 15,
   "metadata": {},
   "outputs": [],
   "source": [
    "def prod(tuple):\n",
    "    return tuple[1]*tuple[2]"
   ]
  },
  {
   "cell_type": "markdown",
   "metadata": {},
   "source": [
    "##### Problem1 "
   ]
  },
  {
   "cell_type": "code",
   "execution_count": 16,
   "metadata": {},
   "outputs": [
    {
     "data": {
      "text/plain": [
       "10680"
      ]
     },
     "execution_count": 16,
     "metadata": {},
     "output_type": "execute_result"
    }
   ],
   "source": [
    "prod(finalList[0])"
   ]
  },
  {
   "cell_type": "markdown",
   "metadata": {},
   "source": [
    "##### Problem2"
   ]
  },
  {
   "cell_type": "code",
   "execution_count": 17,
   "metadata": {},
   "outputs": [
    {
     "data": {
      "text/plain": [
       "31892"
      ]
     },
     "execution_count": 17,
     "metadata": {},
     "output_type": "execute_result"
    }
   ],
   "source": [
    "prod(finalList[-1])"
   ]
  },
  {
   "cell_type": "markdown",
   "metadata": {},
   "source": [
    "### Day5"
   ]
  },
  {
   "cell_type": "code",
   "execution_count": 1,
   "metadata": {},
   "outputs": [],
   "source": [
    "## Reading the Inputs via with context\n",
    "from collections import defaultdict\n",
    "with open(\"day5.txt\") as data:\n",
    "    dataf = data.read()\n"
   ]
  },
  {
   "cell_type": "code",
   "execution_count": 2,
   "metadata": {},
   "outputs": [],
   "source": [
    "dataf = [item.split(' -> ') for item in  dataf.split('\\n')]"
   ]
  },
  {
   "cell_type": "code",
   "execution_count": 3,
   "metadata": {},
   "outputs": [
    {
     "data": {
      "text/plain": [
       "['578,391', '578,322']"
      ]
     },
     "execution_count": 3,
     "metadata": {},
     "output_type": "execute_result"
    }
   ],
   "source": [
    "dataf[0]"
   ]
  },
  {
   "cell_type": "code",
   "execution_count": 4,
   "metadata": {},
   "outputs": [],
   "source": [
    "def cleanUP(tups):\n",
    "    return [tuple(map(int, item.split(','))) for item in tups]\n",
    "    "
   ]
  },
  {
   "cell_type": "code",
   "execution_count": 5,
   "metadata": {},
   "outputs": [],
   "source": [
    "dataf = [cleanUP(tup) for tup in dataf]"
   ]
  },
  {
   "cell_type": "code",
   "execution_count": 6,
   "metadata": {},
   "outputs": [],
   "source": [
    "def editRange(x):\n",
    "    x1 = x[0][0]\n",
    "    x2 = x[1][0]\n",
    "    \n",
    "    y1 = x[0][1]\n",
    "    y2 = x[1][1]\n",
    "    lyst = [(x1, y1)]\n",
    "\n",
    "    while True:\n",
    "        \n",
    "        if x1 == x2 and y1 == y2:\n",
    "            return lyst\n",
    "            break\n",
    "        \n",
    "        if x1 > x2:\n",
    "            x1-=1\n",
    "        elif x1 < x2:\n",
    "            x1+=1\n",
    "        \n",
    "        if y1 > y2:\n",
    "            y1-=1\n",
    "        elif y1 < y2:\n",
    "            y1+=1\n",
    "        #print(x1, y1)\n",
    "        lyst.append((x1, y1))"
   ]
  },
  {
   "cell_type": "markdown",
   "metadata": {
    "tags": []
   },
   "source": [
    "#### Problem 1"
   ]
  },
  {
   "cell_type": "code",
   "execution_count": 7,
   "metadata": {},
   "outputs": [
    {
     "data": {
      "text/plain": [
       "5084"
      ]
     },
     "execution_count": 7,
     "metadata": {},
     "output_type": "execute_result"
    }
   ],
   "source": [
    "dd = defaultdict(int)\n",
    "for item in dataf:\n",
    "    if item[0][0] == item[1][0] or item[0][1] == item[1][1]:\n",
    "        ## This is diagonal case apprently this was the case needed in 2nd problm\n",
    "        for i, j in editRange(item):\n",
    "            dd[i, j]+=1\n",
    "\n",
    "sum([1 for k, v in dd.items() if v > 1 ])"
   ]
  },
  {
   "cell_type": "markdown",
   "metadata": {},
   "source": [
    "#### Problem2"
   ]
  },
  {
   "cell_type": "code",
   "execution_count": 8,
   "metadata": {},
   "outputs": [
    {
     "data": {
      "text/plain": [
       "17882"
      ]
     },
     "execution_count": 8,
     "metadata": {},
     "output_type": "execute_result"
    }
   ],
   "source": [
    "dd = defaultdict(int)\n",
    "\n",
    "for item in dataf:\n",
    "    #if item[0][0] == item[1][0] or item[0][1] == item[1][1]:\n",
    "        for i, j in editRange(item):\n",
    "            dd[i, j]+=1\n",
    "\n",
    "sum([1 for k, v in dd.items() if v > 1 ])"
   ]
  },
  {
   "cell_type": "code",
   "execution_count": null,
   "metadata": {},
   "outputs": [],
   "source": []
  }
 ],
 "metadata": {
  "kernelspec": {
   "display_name": "Python 3",
   "language": "python",
   "name": "python3"
  },
  "language_info": {
   "codemirror_mode": {
    "name": "ipython",
    "version": 3
   },
   "file_extension": ".py",
   "mimetype": "text/x-python",
   "name": "python",
   "nbconvert_exporter": "python",
   "pygments_lexer": "ipython3",
   "version": "3.9.5"
  }
 },
 "nbformat": 4,
 "nbformat_minor": 4
}
