{
 "cells": [
  {
   "cell_type": "code",
   "execution_count": 367,
   "id": "1ce3f582-b19d-4d93-98ea-84339dbd39da",
   "metadata": {},
   "outputs": [],
   "source": [
    "with open(\"day3.txt\") as data:\n",
    "    dataf = data.read()"
   ]
  },
  {
   "cell_type": "code",
   "execution_count": 456,
   "id": "8399717b-e72b-428b-b57e-bc397ce839a8",
   "metadata": {},
   "outputs": [
    {
     "name": "stdout",
     "output_type": "stream",
     "text": [
      "31892\n"
     ]
    }
   ],
   "source": [
    "nums, *boards = open('day3.txt').read().split('\\n\\n')\n",
    "boards = [[row.split() for row in board.split('\\n')] for board in boards]\n",
    "\n",
    "def check_num(num):\n",
    "    for i, board in enumerate(boards):\n",
    "        for j, row in enumerate(board):\n",
    "            for k, value in enumerate(row):\n",
    "                if value == num:\n",
    "                    boards[i][j][k] = None\n",
    "\n",
    "def check_boards():\n",
    "    for board in boards:\n",
    "        if (any(not any(row) for row in board)\n",
    "            or any(not any(col) for col in zip(*board))):\n",
    "            return board\n",
    "    return None\n",
    "\n",
    "for num in nums.split(','):\n",
    "    check_num(num)\n",
    "    while len(boards) and (board := check_boards()):\n",
    "        boards.remove(board)\n",
    "    if not len(boards):\n",
    "        break\n",
    "print(sum(sum(int(value) for value in row if value) for row in board) * int(num))"
   ]
  },
  {
   "cell_type": "code",
   "execution_count": null,
   "id": "ccf85fe4-2289-47d5-b921-df0dcdf261eb",
   "metadata": {},
   "outputs": [],
   "source": []
  },
  {
   "cell_type": "code",
   "execution_count": null,
   "id": "731d4360-618f-49d2-9ba3-e871c7d80eeb",
   "metadata": {},
   "outputs": [],
   "source": []
  },
  {
   "cell_type": "code",
   "execution_count": null,
   "id": "146a658b-a5fc-4a5f-997f-d9782e894db3",
   "metadata": {},
   "outputs": [],
   "source": []
  },
  {
   "cell_type": "code",
   "execution_count": 370,
   "id": "ed125357-572a-41d2-b392-b5d4b65d1167",
   "metadata": {},
   "outputs": [],
   "source": [
    "dataf = dataf.split('\\n')\n",
    "\n",
    "numbers = dataf[0]\n",
    "\n",
    "boards = dataf[1:]"
   ]
  },
  {
   "cell_type": "code",
   "execution_count": 371,
   "id": "406b58d2-1dfe-4460-aa20-80fb7baa0a12",
   "metadata": {},
   "outputs": [],
   "source": [
    "from collections import defaultdict\n",
    "board = defaultdict(list)\n",
    "intval = 0"
   ]
  },
  {
   "cell_type": "code",
   "execution_count": 372,
   "id": "ed31106a-590c-4fbc-b6be-43a71bade913",
   "metadata": {},
   "outputs": [],
   "source": [
    "for idx, item in enumerate(boards): \n",
    "    if item != '':\n",
    "        board[intval].append(item) \n",
    "    else:\n",
    "        intval+=1\n",
    "        \n",
    "    "
   ]
  },
  {
   "cell_type": "code",
   "execution_count": 373,
   "id": "c76727a4-8102-4f76-9730-aaa0ab51e18b",
   "metadata": {},
   "outputs": [],
   "source": [
    "fboard = [[item.split() for item in board[newitem]] for newitem in board.keys()]\n",
    "    "
   ]
  },
  {
   "cell_type": "code",
   "execution_count": 374,
   "id": "03adaf3b-53bf-4498-8df9-219580128cf3",
   "metadata": {},
   "outputs": [
    {
     "data": {
      "text/plain": [
       "[['12', '75', '58', '21', '87'],\n",
       " ['55', '80', '14', '63', '17'],\n",
       " ['37', '35', '76', '92', '56'],\n",
       " ['72', '68', '51', '19', '38'],\n",
       " ['91', '60', '34', '30', '88']]"
      ]
     },
     "execution_count": 374,
     "metadata": {},
     "output_type": "execute_result"
    }
   ],
   "source": [
    "fboard[0]"
   ]
  },
  {
   "cell_type": "code",
   "execution_count": 375,
   "id": "38bfdc1b-ba1e-4603-97c0-760f1c34f443",
   "metadata": {},
   "outputs": [],
   "source": [
    "fboard = [[list(map(int, item)) for item in items] for items in fboard]\n",
    "    "
   ]
  },
  {
   "cell_type": "code",
   "execution_count": 377,
   "id": "7118a0ee-3cee-40a2-bc54-32a27e3acaa4",
   "metadata": {},
   "outputs": [
    {
     "data": {
      "text/plain": [
       "[[9, 78, 51, 18, 93],\n",
       " [71, 55, 0, 5, 37],\n",
       " [24, 98, 2, 70, 92],\n",
       " [85, 15, 46, 91, 99],\n",
       " [60, 68, 41, 86, 96]]"
      ]
     },
     "execution_count": 377,
     "metadata": {},
     "output_type": "execute_result"
    }
   ],
   "source": [
    "fboard[-1]"
   ]
  },
  {
   "cell_type": "code",
   "execution_count": 378,
   "id": "c547fff5-c6cd-4c83-ad35-d873c9c31362",
   "metadata": {},
   "outputs": [],
   "source": [
    "numbers = list(map(int, numbers.split(\",\")))"
   ]
  },
  {
   "cell_type": "code",
   "execution_count": 379,
   "id": "bd30a52e-4501-4c5c-9bc8-9b6a4e5f82bb",
   "metadata": {},
   "outputs": [
    {
     "data": {
      "text/plain": [
       "[67, 31, 58, 8, 79, 18, 19, 45, 38, 13]"
      ]
     },
     "execution_count": 379,
     "metadata": {},
     "output_type": "execute_result"
    }
   ],
   "source": [
    "numbers[0:10]"
   ]
  },
  {
   "cell_type": "code",
   "execution_count": 380,
   "id": "91d712bb-289d-494d-b510-441785112f69",
   "metadata": {},
   "outputs": [],
   "source": [
    "from itertools import chain"
   ]
  },
  {
   "cell_type": "code",
   "execution_count": 381,
   "id": "18eeb5a2-1ede-4145-834c-5bfa812b51ce",
   "metadata": {},
   "outputs": [],
   "source": [
    "selection1 = [[0,1,2,3,4], [5,6,7,8,9], [10,11,12,13,14], [15,16,17,18,19], [20,21,22,23,24]]\n",
    "selection2 = [[0, 5, 10, 15, 20], [1, 6, 11, 16, 21], [2,7,12,17,22], \n",
    "              [3,8,13,18, 23], [4,9, 14, 19, 24]]"
   ]
  },
  {
   "cell_type": "code",
   "execution_count": 382,
   "id": "a2d5f5c8-34c1-4759-95a5-8371d2738b6f",
   "metadata": {},
   "outputs": [],
   "source": [
    "from copy import deepcopy"
   ]
  },
  {
   "cell_type": "code",
   "execution_count": 383,
   "id": "8b738145-6980-45c9-985a-18f419c21094",
   "metadata": {},
   "outputs": [
    {
     "name": "stdout",
     "output_type": "stream",
     "text": [
      "[67, 31, 58, 8, 79, 18, 19, 45, 38, 13, 40, 62, 85, 10, 21, 96, 56, 55, 4, 36, 76, 42, 32, 34, 39, 89, 6, 12, 24, 57, 93, 47, 41, 52, 83, 61, 5, 37, 28, 15, 86, 23, 69, 92, 70, 27, 25, 53, 44, 80, 65, 22, 99, 43, 66, 26, 11, 72, 2, 98, 14, 82, 87, 20, 73, 46, 35, 7, 1, 84, 95, 74, 81, 63, 78, 94, 16, 60, 29, 97, 91, 30, 17, 54, 68, 90, 71, 88, 77, 9, 64, 50, 0, 49, 48, 75, 3, 59, 51, 33]\n"
     ]
    }
   ],
   "source": [
    "print(numbers)"
   ]
  },
  {
   "cell_type": "code",
   "execution_count": 384,
   "id": "fc967b95-77ea-4ed8-8137-15e862703757",
   "metadata": {},
   "outputs": [
    {
     "data": {
      "text/plain": [
       "[[9, 78, 51, 18, 93],\n",
       " [71, 55, 0, 5, 37],\n",
       " [24, 98, 2, 70, 92],\n",
       " [85, 15, 46, 91, 99],\n",
       " [60, 68, 41, 86, 96]]"
      ]
     },
     "execution_count": 384,
     "metadata": {},
     "output_type": "execute_result"
    }
   ],
   "source": [
    "fboard[-1]"
   ]
  },
  {
   "cell_type": "code",
   "execution_count": null,
   "id": "5ddbf5e3-10c6-44bb-b440-94e990016fb6",
   "metadata": {},
   "outputs": [],
   "source": []
  },
  {
   "cell_type": "code",
   "execution_count": 385,
   "id": "c0903fb1-d1d7-4bcd-afdc-244ebe91f0ee",
   "metadata": {},
   "outputs": [],
   "source": [
    "def findPos(fboard):\n",
    "\n",
    "    chainBoard = list(chain(*fboard))\n",
    "    indexval = set()\n",
    "    chainBoard = list(chain(*fboard))\n",
    "    iters = 0\n",
    "    for num in numbers:\n",
    "        if num in chainBoard:\n",
    "            idxval = chainBoard.index(num)\n",
    "            indexval.add(idxval)\n",
    "            chainBoard.insert(idxval+1,-1)\n",
    "            chainBoard.pop(idxval)\n",
    "            if sum(chainBoard[0:5]) == -5:\n",
    "                #print(num, chainBoard)\n",
    "                return iters, num, chainBoard\n",
    "            if sum(chainBoard[5:10]) ==-5:\n",
    "                #print(num, chainBoard)\n",
    "                return iters, num, chainBoard\n",
    "            if sum(chainBoard[10:15]) == -5:\n",
    "                #print(num, chainBoard)\n",
    "                return iters, num, chainBoard\n",
    "            if sum(chainBoard[15:20]) == -5:\n",
    "                #print(num, chainBoard)\n",
    "                return iters, num, chainBoard\n",
    "            if sum(chainBoard[20:25]) == -5:\n",
    "                #print(num, chainBoard)\n",
    "                return iters, num, chainBoard\n",
    "            if sum(chainBoard[slice(0,25,5)]) == -5:\n",
    "                #print(num, chainBoard)\n",
    "                return iters, num, chainBoard\n",
    "            if sum(chainBoard[slice(1,25,5)]) == -5:\n",
    "                #print(num, chainBoard)\n",
    "                return iters, num, chainBoard\n",
    "            if sum(chainBoard[slice(2,25,5)]) == -5:\n",
    "                #print(num, chainBoard)\n",
    "                return iters, num, chainBoard\n",
    "            if sum(chainBoard[slice(3,25,5)]) == -5:\n",
    "                #print(num, chainBoard)\n",
    "                return iters, num, chainBoard\n",
    "            if sum(chainBoard[slice(4,25,5)]) == -5:\n",
    "                #print(num, chainBoard)\n",
    "                return iters, num, chainBoard\n",
    "            iters = iters+1"
   ]
  },
  {
   "cell_type": "code",
   "execution_count": 409,
   "id": "2b459413-a502-4809-a3e2-913b4aa9c571",
   "metadata": {},
   "outputs": [],
   "source": [
    "finalOutput = [findPos(item) for item in fboard]"
   ]
  },
  {
   "cell_type": "code",
   "execution_count": 410,
   "id": "b412d7a9-3f8c-4a56-9d66-e2ab838b6776",
   "metadata": {},
   "outputs": [],
   "source": [
    "finalOutput.sort(key=lambda x: x[0], reverse=False)"
   ]
  },
  {
   "cell_type": "code",
   "execution_count": 411,
   "id": "cfd8ca94-f932-4980-8e9d-3bdb8f7b6e84",
   "metadata": {},
   "outputs": [],
   "source": [
    "chainBoards = finalOutput[0][2]"
   ]
  },
  {
   "cell_type": "code",
   "execution_count": 412,
   "id": "ea00deeb-dca3-4831-92d7-4b419c43f97d",
   "metadata": {},
   "outputs": [],
   "source": [
    "sums = 0\n",
    "item = 0\n",
    "for item in chainBoards:\n",
    "    if item != -1:\n",
    "        sums += item"
   ]
  },
  {
   "cell_type": "code",
   "execution_count": 413,
   "id": "24d278d4-8db6-4965-82b9-2446359fd1c3",
   "metadata": {},
   "outputs": [
    {
     "data": {
      "text/plain": [
       "1068"
      ]
     },
     "execution_count": 413,
     "metadata": {},
     "output_type": "execute_result"
    }
   ],
   "source": [
    "sums"
   ]
  },
  {
   "cell_type": "code",
   "execution_count": 414,
   "id": "d59bd1d2-5f96-47f2-ad90-e020ad773795",
   "metadata": {},
   "outputs": [
    {
     "data": {
      "text/plain": [
       "10"
      ]
     },
     "execution_count": 414,
     "metadata": {},
     "output_type": "execute_result"
    }
   ],
   "source": [
    "finalOutput[0][1]"
   ]
  },
  {
   "cell_type": "code",
   "execution_count": 415,
   "id": "631019ed-696f-4280-b038-bb70779ae9c6",
   "metadata": {},
   "outputs": [
    {
     "data": {
      "text/plain": [
       "10680"
      ]
     },
     "execution_count": 415,
     "metadata": {},
     "output_type": "execute_result"
    }
   ],
   "source": [
    "sums*finalOutput[0][1]"
   ]
  },
  {
   "cell_type": "code",
   "execution_count": 462,
   "id": "d4a409db-1fce-44bd-a2bd-442507fc8696",
   "metadata": {},
   "outputs": [],
   "source": [
    "## Part2\n",
    "output = []"
   ]
  },
  {
   "cell_type": "code",
   "execution_count": 463,
   "id": "74cd68e6-bc23-4e29-bc1b-864763798a2a",
   "metadata": {},
   "outputs": [],
   "source": [
    "for item in finalOutput:\n",
    "    sums = 0\n",
    "    ite = 0\n",
    "    for ite in item[2]:\n",
    "        if ite != -1:\n",
    "            sums += ite\n",
    "            \n",
    "    output.append(sums*item[1])"
   ]
  },
  {
   "cell_type": "code",
   "execution_count": 465,
   "id": "2f2b8b75-330b-411d-b067-5334d500740a",
   "metadata": {},
   "outputs": [
    {
     "data": {
      "text/plain": [
       "90"
      ]
     },
     "execution_count": 465,
     "metadata": {},
     "output_type": "execute_result"
    }
   ],
   "source": [
    "output.index(31892)"
   ]
  },
  {
   "cell_type": "code",
   "execution_count": 468,
   "id": "464cf7fc-79a1-461c-9766-bdef951b395c",
   "metadata": {},
   "outputs": [
    {
     "name": "stdout",
     "output_type": "stream",
     "text": [
      "[10680, 26724, 4095, 45994, 54120, 21978, 58328, 51100, 15840, 4160, 3825, 47110, 46735, 22512, 45079, 46729, 22660, 23347, 9772, 14896, 52113, 66976, 8382, 47600, 29348, 11560, 42578, 18460, 34715, 1156, 38800, 7216, 15574, 11388, 56826, 48600, 6039, 6328, 29521, 47415, 47160, 23975, 53361, 42984, 4851, 20825, 58986, 19005, 38715, 13420, 6006, 31974, 922, 32184, 4046, 36114, 427, 44180, 438, 46828, 36927, 427, 30885, 26048, 41391, 42630, 32103, 25665, 41420, 31894, 28308, 24334, 17066, 29799, 15470, 24381, 23640, 30441, 20592, 424, 12635, 9077, 836, 31320, 28704, 9940, 20492, 38048, 26940, 36062, 31892, 3542, 8070, 28615, 5840, 25802, 24864, 25116, 19740, 19980]\n"
     ]
    }
   ],
   "source": [
    "print(output)"
   ]
  },
  {
   "cell_type": "code",
   "execution_count": 473,
   "id": "12760a4a-fc0b-429f-a133-75c6454cc872",
   "metadata": {},
   "outputs": [
    {
     "name": "stdout",
     "output_type": "stream",
     "text": [
      "(17, 68, [-1, 49, 71, 59, 90, -1, -1, -1, -1, -1, 48, -1, -1, -1, -1, 88, -1, -1, -1, -1, -1, -1, 64, -1, -1])\n"
     ]
    }
   ],
   "source": [
    "for idx, item in enumerate(finalOutput):\n",
    "    if idx == 90:\n",
    "        print(item)"
   ]
  },
  {
   "cell_type": "code",
   "execution_count": null,
   "id": "02c61229-9ff9-4ec2-9fe5-c0dfa1b6484e",
   "metadata": {},
   "outputs": [],
   "source": []
  },
  {
   "cell_type": "code",
   "execution_count": 470,
   "id": "924cb806-9ae8-4d86-835f-21bc2fb8f6c9",
   "metadata": {},
   "outputs": [
    {
     "data": {
      "text/plain": [
       "100"
      ]
     },
     "execution_count": 470,
     "metadata": {},
     "output_type": "execute_result"
    }
   ],
   "source": [
    "len(finalOutput)"
   ]
  },
  {
   "cell_type": "code",
   "execution_count": 474,
   "id": "1c204478-d1fd-43f5-a87e-b99699e30540",
   "metadata": {},
   "outputs": [],
   "source": [
    "chainBoards = [-1, 49, 71, 59, 90, -1, -1, -1, -1, -1, 48, -1, -1, -1, -1, 88, -1, -1, -1, -1, -1, -1, 64, -1, -1]"
   ]
  },
  {
   "cell_type": "code",
   "execution_count": null,
   "id": "f3cbaff9-945d-4c1a-9486-79032df0c93e",
   "metadata": {},
   "outputs": [],
   "source": []
  },
  {
   "cell_type": "code",
   "execution_count": 475,
   "id": "8281045f-dfea-4a28-a66c-71ddcabb7f02",
   "metadata": {},
   "outputs": [],
   "source": [
    "sums = 0\n",
    "item = 0\n",
    "for item in chainBoards:\n",
    "    if item != -1:\n",
    "        sums += item"
   ]
  },
  {
   "cell_type": "code",
   "execution_count": 478,
   "id": "1dfcbcd1-c325-4278-906f-8475dccb1c8b",
   "metadata": {},
   "outputs": [
    {
     "data": {
      "text/plain": [
       "31892"
      ]
     },
     "execution_count": 478,
     "metadata": {},
     "output_type": "execute_result"
    }
   ],
   "source": [
    "sums*68"
   ]
  },
  {
   "cell_type": "code",
   "execution_count": 457,
   "id": "17141907-95b6-4a2d-879d-232b2064c9ae",
   "metadata": {},
   "outputs": [
    {
     "data": {
      "text/plain": [
       "39960"
      ]
     },
     "execution_count": 457,
     "metadata": {},
     "output_type": "execute_result"
    }
   ],
   "source": [
    "sums*finalOutput[-2][1]*2"
   ]
  },
  {
   "cell_type": "code",
   "execution_count": 458,
   "id": "a7eb7a66-c1ae-4a52-b1d9-2c8eca2149cd",
   "metadata": {},
   "outputs": [
    {
     "data": {
      "text/plain": [
       "95.77177177177177"
      ]
     },
     "execution_count": 458,
     "metadata": {},
     "output_type": "execute_result"
    }
   ],
   "source": [
    "31892/333"
   ]
  },
  {
   "cell_type": "code",
   "execution_count": null,
   "id": "f0adc7b1-09ae-4a66-8cd6-b7082da73e32",
   "metadata": {},
   "outputs": [],
   "source": []
  },
  {
   "cell_type": "code",
   "execution_count": null,
   "id": "ba1a00d2-7319-4397-820d-6157a81aa138",
   "metadata": {},
   "outputs": [],
   "source": []
  }
 ],
 "metadata": {
  "kernelspec": {
   "display_name": "Python 3",
   "language": "python",
   "name": "python3"
  },
  "language_info": {
   "codemirror_mode": {
    "name": "ipython",
    "version": 3
   },
   "file_extension": ".py",
   "mimetype": "text/x-python",
   "name": "python",
   "nbconvert_exporter": "python",
   "pygments_lexer": "ipython3",
   "version": "3.9.5"
  }
 },
 "nbformat": 4,
 "nbformat_minor": 5
}
